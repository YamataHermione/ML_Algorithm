{
 "cells": [
  {
   "cell_type": "code",
   "execution_count": 1,
   "id": "b424d3d1-3f2a-4ebf-848e-0d420dd40b56",
   "metadata": {},
   "outputs": [],
   "source": [
    "class WrongOptionError(Exception):\n",
    "    pass"
   ]
  },
  {
   "cell_type": "code",
   "execution_count": null,
   "id": "729fa231-3ede-4097-bab2-5c20455f67f8",
   "metadata": {},
   "outputs": [],
   "source": [
    "class Gradient_Descent(method= 'Default', learning_rate, X, y, loss_func, grad_func, epoch, batch_size):\n",
    "    methods = ['Default', 'SGD', 'Mini']\n",
    "    def __init__(self, method, learning_rate):\n",
    "        if method not in methods:\n",
    "            raise WrongOptionError(\"Not a method offered in 'methods'\")\n",
    "            \n",
    "        self.method = method\n",
    "        self.learning_rate = learning_rate\n",
    "        self.X = X\n",
    "        self.y = y\n",
    "        self.loss = loss\n",
    "        self.epoch = epoch\n",
    "        self.batch_size = bathc_size\n",
    "        \n",
    "    def base_gradient(self, learning_rate, X, y, loss_func, grad_func, epoch, batch_size):\n",
    "        \n",
    "        \n",
    "    def SGD(self, learning_rate, X, y, loss):\n",
    "        \n",
    "        \n",
    "    def batch(self):\n",
    "        \n",
    "        \n",
    "    def Mini_batch(self):\n",
    "        \n",
    "        \n",
    "    def run()"
   ]
  },
  {
   "cell_type": "code",
   "execution_count": null,
   "id": "4739096c-34f4-4f3e-8d75-814d593aaf98",
   "metadata": {},
   "outputs": [],
   "source": [
    "# grad = Gradient_Descent()\n",
    "# grad.update()\n"
   ]
  }
 ],
 "metadata": {
  "kernelspec": {
   "display_name": "Python 3 (ipykernel)",
   "language": "python",
   "name": "python3"
  },
  "language_info": {
   "codemirror_mode": {
    "name": "ipython",
    "version": 3
   },
   "file_extension": ".py",
   "mimetype": "text/x-python",
   "name": "python",
   "nbconvert_exporter": "python",
   "pygments_lexer": "ipython3",
   "version": "3.9.7"
  },
  "widgets": {
   "application/vnd.jupyter.widget-state+json": {
    "state": {},
    "version_major": 2,
    "version_minor": 0
   }
  }
 },
 "nbformat": 4,
 "nbformat_minor": 5
}
