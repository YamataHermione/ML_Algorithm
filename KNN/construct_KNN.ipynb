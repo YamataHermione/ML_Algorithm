{
 "cells": [
  {
   "cell_type": "markdown",
   "id": "cfc60a14-f60e-436b-9c45-2f44d9fdd70b",
   "metadata": {},
   "source": [
    "## kd Tree"
   ]
  },
  {
   "cell_type": "markdown",
   "id": "6dfc65e6-b202-4b71-8168-0a8fcce0993e",
   "metadata": {},
   "source": [
    "Construct a kd Tree"
   ]
  },
  {
   "cell_type": "code",
   "execution_count": 1,
   "id": "3cc100fe-d912-48c8-a877-36c134224eca",
   "metadata": {},
   "outputs": [],
   "source": [
    "class KdNode(object):\n",
    "    def __init__(self, dom_elt, split, left, right):\n",
    "        self.dom_elt = dom_elt #k维向量节点(k维空间中的一个样本点)\n",
    "        self.split = split #整数(进行分割维度的序号)\n",
    "        self.left = left #该节点分割超平面子空间构成的kd-tree\n",
    "        self.right = right #该节点分割超平面右子空间构成kd-tree\n",
    "        \n",
    "        \n",
    "class kdTree(object):\n",
    "    def __init__(self, data):\n",
    "        k = len(data[0])\n",
    "        \n",
    "        def CreateNode(split, data_set): #按第split维划分数据集exset创建KdNode\n",
    "            if not data_set:\n",
    "                return None\n",
    "            #key参数的值为一个函数，此函数只有一个参数且返回一个值用来进行比较\n",
    "            #operator模块提供的itemgetter函数用于获取对象的哪些维的数据，参数为需要获取的数据在对象中的序号\n",
    "            #data_set.sort(key=itemgetter(split)) #按要进行分割的那一维排序\n",
    "            #这里data_set是list, 因此使用sort方法排序\n",
    "            #参数key的作用: key specifies a function of one argument that is used to extract a \n",
    "            #comparison key from each element in iterable (for example, key=str.lower). \n",
    "            #The default value is None (compare the elements directly).\n",
    "            \n",
    "            data_set.sort(key = lambda x: x[split])\n",
    "            split_pos = len(data_set) // 2\n",
    "            median = data_set[split_pos]\n",
    "            split_next = (split+1) % k\n",
    "            \n",
    "            return KdNode(\n",
    "                median,\n",
    "                split, \n",
    "                CreateNode(split_next, data_set[:split_pos]),\n",
    "                CreateNode(split_next, data_set[split_pos+1:])\n",
    "            )\n",
    "        \n",
    "        self.root = CreateNode(0, data) #从第0维开始构建kd树，返回根节点\n",
    "        \n",
    "\n",
    "#kdTree的前序遍历\n",
    "def preorder(root):\n",
    "    print(root.dom_elt)\n",
    "    if root.left != None:\n",
    "        preorder(root.left)\n",
    "    if root.right != None:\n",
    "        preorder(root.right)"
   ]
  },
  {
   "cell_type": "code",
   "execution_count": 2,
   "id": "fece5300-3d77-4a5f-b0ff-bd4330344b1d",
   "metadata": {
    "tags": []
   },
   "outputs": [],
   "source": [
    "# 对构建好的kd树进行搜索，寻找与目标点最近的样本点\n",
    "\n",
    "from math import sqrt\n",
    "from collections import namedtuple\n",
    "\n",
    "# 定义一个namedtuple,分别存放最近坐标点、最近距离和访问过的节点数\n",
    "result = namedtuple(\"Result_tuple\", \"nearest_point nearest_dist nodes_visited\")\n",
    "\n",
    "\n",
    "def find_nearest(tree, point):\n",
    "    k = len(point) #数据维度\n",
    "    \n",
    "    def travel(kd_node, target, max_dist):\n",
    "        if kd_node is None:\n",
    "            return result([0] * k, float(\"inf\"), 0)  \n",
    "        \n",
    "        nodes_visited = 1\n",
    "        \n",
    "        s = kd_node.split  #进行分割的维度\n",
    "        pivot = kd_node.dom_elt  #进行分割的轴\n",
    "        \n",
    "        if target[s] <= pivot[s]: #如果目标点第s维小于分割轴的对应值(目标离左子树更近)\n",
    "            nearer_node = kd_node.left\n",
    "            further_node = kd_node.right\n",
    "        else:\n",
    "            nearer_node = kd_node.right\n",
    "            further_node = kd_node.left\n",
    "        \n",
    "        temp1 = travel(nearer_node, target, max_dist)  #进行遍历找到包含目标点的区域 搜索到叶节点停止， 准确的说，搜索到叶节点的\n",
    "        #子节点，因为该节点并不存在，所以返回 空节点: result([0] * k, float(\"inf\"), 0) 然后继续递归  \n",
    "        \n",
    "        nearest = temp1.nearest_point  #以此叶节点作为当前最近点\n",
    "        dist = temp1.nearest_dist #更新最近距离\n",
    "        \n",
    "        nodes_visited += temp1.nodes_visited\n",
    "        \n",
    "        if dist < max_dist:\n",
    "            max_dist = dist #最近点将在以目标点为球心， max_dist为半径的超球体内\n",
    "            \n",
    "        temp_dist = abs(pivot[s] - target[s])\n",
    "        if max_dist < temp_dist: #判断超球体是否与超平面相交\n",
    "            return result(nearest, dist, nodes_visited) #不相交可以直接返回 因为如果不和任何超平面相交，就不可能与同一父节点的另一个子节点距离更近\n",
    "        \n",
    "        #------------------------------------------------------\n",
    "        #计算目标点与分割点的欧氏距离\n",
    "        temp_dist = sqrt(sum((p1 - p2)**2 for p1, p2 in zip(pivot, target)))\n",
    "        \n",
    "        if temp_dist < dist: #如果\"更近\"\n",
    "            nearest = pivot\n",
    "            dist = temp_dist\n",
    "            max_dist = dist\n",
    "            \n",
    "        #检查另一个子节点对应的区域是否有更近的点\n",
    "        temp2 = travel(further_node, target, max_dist)\n",
    "        \n",
    "        nodes_visited += temp2.nodes_visited\n",
    "        if temp2.nearest_dist < dist: #如果另一个子节点存在更近距离\n",
    "            nearest = temp2.nearest_point  #更新最近点\n",
    "            dist = temp.nearest_dist #更新最近距离\n",
    "            \n",
    "        return result(nearest, dist, nodes_visited)\n",
    "        \n",
    "    return travel(tree.root, point, float(\"inf\")) #从根节点开始递归"
   ]
  },
  {
   "cell_type": "markdown",
   "id": "8ba09088-80c5-4577-a2a8-2f0651fea3ed",
   "metadata": {
    "jupyter": {
     "source_hidden": true
    },
    "tags": []
   },
   "source": [
    "例3.2"
   ]
  },
  {
   "cell_type": "code",
   "execution_count": 44,
   "id": "cd26509b-f038-4140-bfa0-e34e542c366a",
   "metadata": {
    "collapsed": true,
    "jupyter": {
     "outputs_hidden": true,
     "source_hidden": true
    },
    "tags": []
   },
   "outputs": [
    {
     "name": "stdout",
     "output_type": "stream",
     "text": [
      "[7, 2]\n",
      "[5, 4]\n",
      "[2, 3]\n",
      "[4, 7]\n",
      "[9, 6]\n",
      "[8, 1]\n"
     ]
    }
   ],
   "source": [
    "data_set = [[2, 3], [5,4], [9,6], [4,7], [8,1], [7,2]]\n",
    "kd = kdTree(data_set)\n",
    "preorder(kd.root)"
   ]
  },
  {
   "cell_type": "markdown",
   "id": "d3b6bed9-2061-44b0-9134-2f54806e762e",
   "metadata": {
    "jupyter": {
     "source_hidden": true
    },
    "tags": []
   },
   "source": [
    "习题3.2"
   ]
  },
  {
   "cell_type": "code",
   "execution_count": 36,
   "id": "9d925d19-a16f-4c7a-b151-74c56961efcb",
   "metadata": {
    "jupyter": {
     "source_hidden": true
    },
    "tags": []
   },
   "outputs": [],
   "source": [
    "train_data = [[2,3], [5,4], [9,6], [4,7], [8,1], [7,2]]\n",
    "kd = kdTree(train_data)\n",
    "point = [3, 4, 5]"
   ]
  },
  {
   "cell_type": "code",
   "execution_count": 37,
   "id": "975d13c2-5c72-4296-818b-5b02fde8f31e",
   "metadata": {
    "jupyter": {
     "source_hidden": true
    },
    "tags": []
   },
   "outputs": [],
   "source": [
    "res = find_nearest(kd, point)"
   ]
  },
  {
   "cell_type": "code",
   "execution_count": 38,
   "id": "8a7ed948-5fcd-4429-bf36-8dfabee3df3c",
   "metadata": {
    "jupyter": {
     "source_hidden": true
    },
    "tags": []
   },
   "outputs": [
    {
     "data": {
      "text/plain": [
       "Result_tuple(nearest_point=[2, 3], nearest_dist=1.4142135623730951, nodes_visited=4)"
      ]
     },
     "execution_count": 38,
     "metadata": {},
     "output_type": "execute_result"
    }
   ],
   "source": [
    "res"
   ]
  },
  {
   "cell_type": "markdown",
   "id": "f707eecd-2a8f-4bbb-88ef-39eeab2e18a2",
   "metadata": {},
   "source": [
    "习题3.3"
   ]
  },
  {
   "cell_type": "markdown",
   "id": "afdd4326-c5ee-4f99-a200-2042d0e1e10b",
   "metadata": {},
   "source": [
    "参照算法3.3, 写出输出为x的k临近算法"
   ]
  },
  {
   "cell_type": "code",
   "execution_count": 42,
   "id": "93dd28fb-20d6-4896-833b-41ac19e5f9c4",
   "metadata": {},
   "outputs": [],
   "source": [
    "from collections import namedtuple\n",
    "import numpy as np"
   ]
  },
  {
   "cell_type": "code",
   "execution_count": null,
   "id": "c96836a8-2634-4d16-a575-1752e161a711",
   "metadata": {},
   "outputs": [],
   "source": [
    "result = namedtuple('result_tuple', \"nearest_point nearest_dist nodes_d_visted\")"
   ]
  },
  {
   "cell_type": "code",
   "execution_count": 47,
   "id": "40f3fcc2-a338-49ea-b62c-a01e338e8837",
   "metadata": {},
   "outputs": [],
   "source": [
    "class kdNode(object):\n",
    "    def __init__(self):\n",
    "        self.element = element\n",
    "        self.split = split\n",
    "        self.left = left\n",
    "        self.right = right\n",
    "        \n",
    "\n",
    "class kd_tree(object):\n",
    "\n",
    "    def __init__(self, data):\n",
    "        k = len(data[0])\n",
    "        \n",
    "        def CreateNode(split, data):\n",
    "            if not data:\n",
    "                return None\n",
    "            else:\n",
    "                split_pos = len(data) // 2\n",
    "                data_set = data.sort(key = lambda x: x[split_pos])\n",
    "                median = data_set[split_pos]\n",
    "                next_split = (split + 1) % k\n",
    "            return kdNode(\n",
    "                median,\n",
    "                split,\n",
    "                CreateNode(split_next, data[:split_pos + 1]),\n",
    "                CreateNode(plit_next, data[split_pos:])\n",
    "            )\n",
    "        self.root = CreateNode(0, data)\n",
    "        \n",
    "    def search(self, kdNode, target_point, max_dist):\n",
    "        nodes_visited = 0\n",
    "        \n",
    "        if self.root == None:\n",
    "            return result([0] * k, float(\"inf\"), 0)\n",
    "        \n",
    "        s = self.root.split\n",
    "        if target_point[s] < self.element[s]:\n",
    "            nearest_point = self.left\n",
    "            further_point = self.right\n",
    "        else:\n",
    "            nearest_point = self.right\n",
    "            further_point = self.left\n",
    "            \n",
    "        nodes_visited += 1\n",
    "        \n",
    "        tmpNode = self.search(nearest_point, target_point, max_dist)  #走到叶节点\n",
    "        \n",
    "        nearest = tmpNode.nearest_point\n",
    "        dist = tmpNode.nearest_dist\n",
    "        \n",
    "        if  dist < max_dist:         #这里写反了 为什么呢\n",
    "            max_dist = dist\n",
    "            \n",
    "        temp_dist = abs(self.element[s] - target_point[s]) #如果和超平面相交， 那就有可能和其他子节点有最近距离\n",
    "        if max_dist < temp_dist: #判断超球体是否与超平面相交\n",
    "            return result(nearest, dist, nodes_visited) # 不相交可以直接返回 不用继续判断\n",
    "        \n",
    "        #计算目标点与分割点的欧氏距离\n",
    "        temp_dist = sqrt(sum(p1 - p2)** 2 for p1, p2 in zip(pivot, target))\n",
    "        if temp_dist < dist:\n",
    "            nearest = pivot\n",
    "            dist = temp_dist\n",
    "            max_dist = dist\n",
    "        temp2 = travel(further_node, target, max_dist)\n",
    "        \n",
    "        nodes_visited += temp2.nodes_visited\n",
    "        if temp2.nearest_dist < dist:\n",
    "            nearest = temp2.nearest_point\n",
    "            dist = temp2.nearest_dist\n",
    "        \n",
    "        \n",
    "        return result(nearest_point, nearest_dist, nodes_visited)\n",
    "    return travel(tree.root, point, float(\"inf\"))"
   ]
  },
  {
   "cell_type": "code",
   "execution_count": 8,
   "id": "e269fa69-4e24-4e10-8a69-0be80836a3ce",
   "metadata": {},
   "outputs": [],
   "source": [
    "class Fabs(object):\n",
    "    \n",
    "    def cal(self,num):\n",
    "        if num > 1 :\n",
    "            return self.cal(num-1) + self.cal(num-2)\n",
    "        elif(num == 1): \n",
    "            return 1\n",
    "        else: return 0"
   ]
  },
  {
   "cell_type": "code",
   "execution_count": 9,
   "id": "46109665-5bd9-4319-9d77-b7d414bc2724",
   "metadata": {},
   "outputs": [],
   "source": [
    "f = Fabs()"
   ]
  },
  {
   "cell_type": "code",
   "execution_count": 11,
   "id": "2967a2be-826e-4660-be52-cc6909001ac9",
   "metadata": {},
   "outputs": [
    {
     "data": {
      "text/plain": [
       "55"
      ]
     },
     "execution_count": 11,
     "metadata": {},
     "output_type": "execute_result"
    }
   ],
   "source": [
    "f.cal(10)"
   ]
  },
  {
   "cell_type": "code",
   "execution_count": null,
   "id": "7c5c8f50-fd15-477f-99eb-5f36885aa1eb",
   "metadata": {},
   "outputs": [],
   "source": []
  }
 ],
 "metadata": {
  "kernelspec": {
   "display_name": "Python 3 (ipykernel)",
   "language": "python",
   "name": "python3"
  },
  "language_info": {
   "codemirror_mode": {
    "name": "ipython",
    "version": 3
   },
   "file_extension": ".py",
   "mimetype": "text/x-python",
   "name": "python",
   "nbconvert_exporter": "python",
   "pygments_lexer": "ipython3",
   "version": "3.9.7"
  },
  "widgets": {
   "application/vnd.jupyter.widget-state+json": {
    "state": {},
    "version_major": 2,
    "version_minor": 0
   }
  }
 },
 "nbformat": 4,
 "nbformat_minor": 5
}
