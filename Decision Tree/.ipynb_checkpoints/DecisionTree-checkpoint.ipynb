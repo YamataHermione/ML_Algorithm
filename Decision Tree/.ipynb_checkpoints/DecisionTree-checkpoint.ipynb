{
 "cells": [
  {
   "cell_type": "markdown",
   "id": "520a3b3d-5bc9-42cc-8052-4cd8a5954691",
   "metadata": {},
   "source": [
    "## Concepts\n",
    "\n",
    "### Entropy \n",
    "+ Entropy is a measurement of the impuraty and uncertainty in a group of observations. \n",
    "+ The larger the entropy is, the more impure and more uncertain the observations are.\n",
    "+ Formula: $H(p) = -\\sum\\limits_{i=0}^n{p_{i}\\log{p_{i}}}$\n",
    "\n",
    "### Information gain\n",
    "+ The difference between emprical entropy and emprical conditional entropy\n",
    "+ Formula: $g(D, A) = H(D) - H(D|A)$ where A is a given feature"
   ]
  },
  {
   "cell_type": "markdown",
   "id": "50049414-392b-457b-99f0-4cdb6ecca7b8",
   "metadata": {},
   "source": [
    "## Algorithom for information gain calculation\n",
    "\n",
    "Given that training data set $D$, we use $|D|$ to represents the sample size. Suppose that we have $K$ classes(labels) $C_{k}$, k=1,2,...K, $|C_{k}|$ represents the sample size of subset in class k, so we know that $\\sum\\limits_{k=1}^K|C_{k}| = |D|$. Assume that feature A have n unique values ${a_1, a_2, ...... a_n}$. Based on the value of feature A we can split $D$ into $n$ subsets: $D_1, D_2, D_3, ...... D_n$, we use $|D_i|$ to represents sample size of $D_i$, therefore, we have $\\sum\\limits_{i}^n|D_i| = |D|$. Mark the sample set belonging to subset $D_{i}$ in class $C_k$ as $D_{ik}$, so $D_{ik} = D_{i} \\cap C_{k}$, $|D_{ik}|$ is the sample size of $D_{ik}$, Information Gain Algorithm is as follow:"
   ]
  },
  {
   "cell_type": "markdown",
   "id": "7976e410-51c4-4906-a620-8c0203417685",
   "metadata": {},
   "source": [
    "Tip: In short, given data set $D$, we first split it based on the values of feature $A$ to get $D_i$, and then split $D_i$ based on class $C_k$ and then compute Infomation Gain"
   ]
  },
  {
   "cell_type": "markdown",
   "id": "2c752adf-031f-4aff-a9af-c1cd5476c882",
   "metadata": {},
   "source": [
    "## Decision Tree Models : ID3, C4.5, CART"
   ]
  },
  {
   "cell_type": "markdown",
   "id": "4530e0ca-b598-410a-a39b-bff29a8d9cb1",
   "metadata": {},
   "source": [
    "### ID3"
   ]
  },
  {
   "cell_type": "code",
   "execution_count": null,
   "id": "a7307218-1ac7-4683-a9ca-b31a4048296d",
   "metadata": {},
   "outputs": [],
   "source": []
  }
 ],
 "metadata": {
  "kernelspec": {
   "display_name": "Python 3 (ipykernel)",
   "language": "python",
   "name": "python3"
  },
  "language_info": {
   "codemirror_mode": {
    "name": "ipython",
    "version": 3
   },
   "file_extension": ".py",
   "mimetype": "text/x-python",
   "name": "python",
   "nbconvert_exporter": "python",
   "pygments_lexer": "ipython3",
   "version": "3.9.7"
  },
  "widgets": {
   "application/vnd.jupyter.widget-state+json": {
    "state": {},
    "version_major": 2,
    "version_minor": 0
   }
  }
 },
 "nbformat": 4,
 "nbformat_minor": 5
}
