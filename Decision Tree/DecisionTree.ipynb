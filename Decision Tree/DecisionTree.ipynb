{
 "cells": [
  {
   "cell_type": "markdown",
   "id": "520a3b3d-5bc9-42cc-8052-4cd8a5954691",
   "metadata": {},
   "source": [
    "## Concepts\n",
    "\n",
    "### Entropy \n",
    "+ Entropy is a measurement of the impuraty and uncertainty in a group of observations. \n",
    "+ The larger the entropy is, the more impure and more uncertain the observations are.\n",
    "+ Formula: $H(p) = -\\sum\\limits_{i=0}^n{p_{i}\\log{p_{i}}}$\n",
    "\n",
    "### Information gain\n",
    "+ The difference between emprical entropy and emprical conditional entropy\n",
    "+ Formula: $g(D, A) = H(D) - H(D|A)$ where A is a given feature"
   ]
  },
  {
   "cell_type": "markdown",
   "id": "50049414-392b-457b-99f0-4cdb6ecca7b8",
   "metadata": {},
   "source": [
    "## Algorithom for information gain calculation\n",
    "\n",
    "Given that training data set $D$, we use $|D|$ to represents the sample size. Suppose that we have $K$ classes(labels) $C_{k}$, k=1,2,...K, $|C_{k}|$ represents the sample size of subset in class k, so we know that $\\sum\\limits_{k=1}^K|C_{k}| = |D|$. Assume that feature A have n unique values ${a_1, a_2, ...... a_n}$. Based on the value of feature A we can split $D$ into $n$ subsets: $D_1, D_2, D_3, ...... D_n$, we use $|D_i|$ to represents sample size of $D_i$, therefore, we have $\\sum\\limits_{i}^n|D_i| = |D|$. Mark the sample set belonging to subset $D_{i}$ in class $C_k$ as $D_{ik}$, so $D_{ik} = D_{i} \\cap C_{k}$, $|D_{ik}|$ is the sample size of $D_{ik}$, Information Gain Algorithm is as follow:"
   ]
  },
  {
   "cell_type": "markdown",
   "id": "7976e410-51c4-4906-a620-8c0203417685",
   "metadata": {},
   "source": [
    "Tip: In short, given data set $D$, we first split it based on the values of feature $A$ to get $D_i$, and then split $D_i$ based on class $C_k$ and then compute Infomation Gain"
   ]
  },
  {
   "cell_type": "markdown",
   "id": "2c752adf-031f-4aff-a9af-c1cd5476c882",
   "metadata": {},
   "source": [
    "## Decision Tree Models : ID3, C4.5, CART"
   ]
  },
  {
   "cell_type": "code",
   "execution_count": 12,
   "id": "7804b286",
   "metadata": {},
   "outputs": [],
   "source": [
    "import gc\n",
    "import sys"
   ]
  },
  {
   "cell_type": "code",
   "execution_count": 5,
   "id": "f018aef2",
   "metadata": {},
   "outputs": [
    {
     "data": {
      "text/html": [
       "<div>\n",
       "<style scoped>\n",
       "    .dataframe tbody tr th:only-of-type {\n",
       "        vertical-align: middle;\n",
       "    }\n",
       "\n",
       "    .dataframe tbody tr th {\n",
       "        vertical-align: top;\n",
       "    }\n",
       "\n",
       "    .dataframe thead th {\n",
       "        text-align: right;\n",
       "    }\n",
       "</style>\n",
       "<table border=\"1\" class=\"dataframe\">\n",
       "  <thead>\n",
       "    <tr style=\"text-align: right;\">\n",
       "      <th></th>\n",
       "      <th>sepal length (cm)</th>\n",
       "      <th>sepal width (cm)</th>\n",
       "      <th>petal length (cm)</th>\n",
       "      <th>petal width (cm)</th>\n",
       "      <th>target</th>\n",
       "    </tr>\n",
       "  </thead>\n",
       "  <tbody>\n",
       "    <tr>\n",
       "      <th>0</th>\n",
       "      <td>5.1</td>\n",
       "      <td>3.5</td>\n",
       "      <td>1.4</td>\n",
       "      <td>0.2</td>\n",
       "      <td>0</td>\n",
       "    </tr>\n",
       "    <tr>\n",
       "      <th>1</th>\n",
       "      <td>4.9</td>\n",
       "      <td>3.0</td>\n",
       "      <td>1.4</td>\n",
       "      <td>0.2</td>\n",
       "      <td>0</td>\n",
       "    </tr>\n",
       "    <tr>\n",
       "      <th>2</th>\n",
       "      <td>4.7</td>\n",
       "      <td>3.2</td>\n",
       "      <td>1.3</td>\n",
       "      <td>0.2</td>\n",
       "      <td>0</td>\n",
       "    </tr>\n",
       "    <tr>\n",
       "      <th>3</th>\n",
       "      <td>4.6</td>\n",
       "      <td>3.1</td>\n",
       "      <td>1.5</td>\n",
       "      <td>0.2</td>\n",
       "      <td>0</td>\n",
       "    </tr>\n",
       "    <tr>\n",
       "      <th>4</th>\n",
       "      <td>5.0</td>\n",
       "      <td>3.6</td>\n",
       "      <td>1.4</td>\n",
       "      <td>0.2</td>\n",
       "      <td>0</td>\n",
       "    </tr>\n",
       "    <tr>\n",
       "      <th>...</th>\n",
       "      <td>...</td>\n",
       "      <td>...</td>\n",
       "      <td>...</td>\n",
       "      <td>...</td>\n",
       "      <td>...</td>\n",
       "    </tr>\n",
       "    <tr>\n",
       "      <th>145</th>\n",
       "      <td>6.7</td>\n",
       "      <td>3.0</td>\n",
       "      <td>5.2</td>\n",
       "      <td>2.3</td>\n",
       "      <td>2</td>\n",
       "    </tr>\n",
       "    <tr>\n",
       "      <th>146</th>\n",
       "      <td>6.3</td>\n",
       "      <td>2.5</td>\n",
       "      <td>5.0</td>\n",
       "      <td>1.9</td>\n",
       "      <td>2</td>\n",
       "    </tr>\n",
       "    <tr>\n",
       "      <th>147</th>\n",
       "      <td>6.5</td>\n",
       "      <td>3.0</td>\n",
       "      <td>5.2</td>\n",
       "      <td>2.0</td>\n",
       "      <td>2</td>\n",
       "    </tr>\n",
       "    <tr>\n",
       "      <th>148</th>\n",
       "      <td>6.2</td>\n",
       "      <td>3.4</td>\n",
       "      <td>5.4</td>\n",
       "      <td>2.3</td>\n",
       "      <td>2</td>\n",
       "    </tr>\n",
       "    <tr>\n",
       "      <th>149</th>\n",
       "      <td>5.9</td>\n",
       "      <td>3.0</td>\n",
       "      <td>5.1</td>\n",
       "      <td>1.8</td>\n",
       "      <td>2</td>\n",
       "    </tr>\n",
       "  </tbody>\n",
       "</table>\n",
       "<p>150 rows × 5 columns</p>\n",
       "</div>"
      ],
      "text/plain": [
       "     sepal length (cm)  sepal width (cm)  petal length (cm)  petal width (cm)  \\\n",
       "0                  5.1               3.5                1.4               0.2   \n",
       "1                  4.9               3.0                1.4               0.2   \n",
       "2                  4.7               3.2                1.3               0.2   \n",
       "3                  4.6               3.1                1.5               0.2   \n",
       "4                  5.0               3.6                1.4               0.2   \n",
       "..                 ...               ...                ...               ...   \n",
       "145                6.7               3.0                5.2               2.3   \n",
       "146                6.3               2.5                5.0               1.9   \n",
       "147                6.5               3.0                5.2               2.0   \n",
       "148                6.2               3.4                5.4               2.3   \n",
       "149                5.9               3.0                5.1               1.8   \n",
       "\n",
       "     target  \n",
       "0         0  \n",
       "1         0  \n",
       "2         0  \n",
       "3         0  \n",
       "4         0  \n",
       "..      ...  \n",
       "145       2  \n",
       "146       2  \n",
       "147       2  \n",
       "148       2  \n",
       "149       2  \n",
       "\n",
       "[150 rows x 5 columns]"
      ]
     },
     "execution_count": 5,
     "metadata": {},
     "output_type": "execute_result"
    }
   ],
   "source": [
    "import sklearn\n",
    "from sklearn.datasets import load_iris\n",
    "import pandas as pd\n",
    "import numpy as np\n",
    "import typing \n",
    "\n",
    "iris_data, target = load_iris(return_X_y = True, as_frame=True)\n",
    "iris_data = pd.concat([iris_data, target], axis=1)\n",
    "iris_data"
   ]
  },
  {
   "cell_type": "markdown",
   "id": "4530e0ca-b598-410a-a39b-bff29a8d9cb1",
   "metadata": {},
   "source": [
    "### ID3"
   ]
  },
  {
   "cell_type": "code",
   "execution_count": 8,
   "id": "a7307218-1ac7-4683-a9ca-b31a4048296d",
   "metadata": {},
   "outputs": [
    {
     "name": "stdout",
     "output_type": "stream",
     "text": [
      "3\n",
      "3\n"
     ]
    },
    {
     "data": {
      "text/plain": [
       "0"
      ]
     },
     "execution_count": 8,
     "metadata": {},
     "output_type": "execute_result"
    }
   ],
   "source": [
    "# a function that helps split data set on column level\n",
    "\n",
    "def df_split(df : pd.DataFrame, col : str)->dict[str, pd.DataFrame]:\n",
    "    '''\n",
    "    input:\n",
    "        df : data set\n",
    "        label : name of column for label\n",
    "    output:\n",
    "        res_dict : a dict containing all sub set that are splitted\n",
    "    '''\n",
    "    res_dict = {elem : pd.DataFrame for elem in df[col].unique()}\n",
    "    \n",
    "    for label_ in res_dict.keys():\n",
    "        res_dict[label_] = df[:][df[col] == label_]\n",
    "    \n",
    "    return res_dict\n",
    "\n",
    "# a test case, test if the function is working well\n",
    "res_dict = df_split(iris_data, 'target')\n",
    "print(len(res_dict))\n",
    "print(iris_data['target'].nunique())\n",
    "del res_dict\n",
    "gc.collect()"
   ]
  },
  {
   "cell_type": "code",
   "execution_count": 11,
   "id": "1515558b",
   "metadata": {},
   "outputs": [
    {
     "name": "stdout",
     "output_type": "stream",
     "text": [
      "1.0\n",
      "1.0\n"
     ]
    }
   ],
   "source": [
    "# function for entropy calculation\n",
    "from math import log\n",
    "\n",
    "\n",
    "def entropy(elements : typing.List):\n",
    "    probs = [elements.count(e)/len(elements) for e in set(elements)]\n",
    "    entro = -1 * sum([prob * log(prob, 2) for prob in probs])\n",
    "    return entro\n",
    "\n",
    "# a test case \n",
    "print(entropy([1,1,1,2,2,2]))\n",
    "print(-0.5 * log(0.5, 2) * 2)"
   ]
  },
  {
   "cell_type": "code",
   "execution_count": 13,
   "id": "ea225b10",
   "metadata": {},
   "outputs": [],
   "source": [
    "# a fucntion that select the feature which can maximize the infomation gain\n",
    "def choose_best_feature(df : pd.DataFrame, label : str):\n",
    "    '''\n",
    "    input:\n",
    "        df : data set\n",
    "        label : label or target of the data set\n",
    "    output:\n",
    "        max_value : maximum information gain\n",
    "        best_feature : string, name of the best feature\n",
    "        max_splited : splitted data set using the best feature\n",
    "    '''\n",
    "    # compute entropy on label\n",
    "    entropy_D = entropy(df[label].tolist())\n",
    "    \n",
    "    # create feature set\n",
    "    cols = [col for col in df.columns if col not in [label]]\n",
    "    \n",
    "    #initialize infomation gain, beast feature for splitting, and best splitted samples    \n",
    "    max_value, best_feature = -sys.maxsize, None \n",
    "    max_splitted = None\n",
    "    \n",
    "    # traverse features\n",
    "    for col in cols:\n",
    "        # split data set by feature\n",
    "        splitted = df_split(df, col)\n",
    "        # initialize conditional entropy\n",
    "        entropy_DA = 0\n",
    "        for subset_col, subset in splitted.items():\n",
    "            # compute the entropy of subset for given feature\n",
    "            entropy_Di = entropy(subset[label].tolist())\n",
    "            # compute the conditional entory of the feature\n",
    "            entropy_DA += len(subset) / len(df) * entropy_Di\n",
    "        # compute infomation gain\n",
    "        info_gain = entropy_D - entropy_DA\n",
    "        \n",
    "        if(info_gain > max_value):\n",
    "            max_value = info_gain\n",
    "            best_feature = col\n",
    "            max_splitted = splitted\n",
    "    \n",
    "    return max_value, best_feature, max_splitted\n"
   ]
  },
  {
   "cell_type": "code",
   "execution_count": 14,
   "id": "67a1dabf",
   "metadata": {},
   "outputs": [],
   "source": [
    "## Build a ID3 Class\n",
    "class ID3Tree():\n",
    "    \n",
    "    class TreeNode():\n",
    "        # define a tree node structure\n",
    "        def __init__(self, name) -> None:\n",
    "            self.name = name\n",
    "            self.connections = {}\n",
    "        # define a method 'connect' which add child node to a node\n",
    "        def connect(self, label, node):\n",
    "            self.connections[label] = node\n",
    "            \n",
    "    def __init__(self, df : pd.DataFrame, label : str) -> None:\n",
    "        self.columns = df.columns\n",
    "        self.df = df \n",
    "        self.label = label \n",
    "        self.root = self.TreeNode('Root')\n",
    "    \n",
    "    # define an api for constructing tree\n",
    "    def construct_tree(self):\n",
    "        self.construct(self.root, '', self.df, self.columns)\n",
    "        \n",
    "    def construct(self, parent_node, parent_label, sub_df, columns):\n",
    "        max_value, best_feature, best_splitted = choose_best_feature(sub_df[columns], self.label)\n",
    "        \n",
    "        if not best_feature:\n",
    "            node = self.TreeNode(sub_df[self.label].iloc[0])\n",
    "            parent_label.connect(parent_label, node)\n",
    "            return \n",
    "        \n",
    "        node = self.TreeNode(best_feature)\n",
    "        parent_node.connect(parent_label, node)\n",
    "        \n",
    "        new_columns = [col for col in columns if col != best_feature]\n",
    "        \n",
    "        for splitted_value, splitted_data in best_splitted.items():\n",
    "            self.construct(node, splitted_value, splitted_data, new_columns)"
   ]
  },
  {
   "cell_type": "code",
   "execution_count": null,
   "id": "c3c4857d",
   "metadata": {},
   "outputs": [],
   "source": []
  }
 ],
 "metadata": {
  "kernelspec": {
   "display_name": "Python 3.9.7 ('base')",
   "language": "python",
   "name": "python3"
  },
  "language_info": {
   "codemirror_mode": {
    "name": "ipython",
    "version": 3
   },
   "file_extension": ".py",
   "mimetype": "text/x-python",
   "name": "python",
   "nbconvert_exporter": "python",
   "pygments_lexer": "ipython3",
   "version": "3.9.7"
  },
  "vscode": {
   "interpreter": {
    "hash": "88279d2366fe020547cde40dd65aa0e3aa662a6ec1f3ca12d88834876c85e1a6"
   }
  },
  "widgets": {
   "application/vnd.jupyter.widget-state+json": {
    "state": {},
    "version_major": 2,
    "version_minor": 0
   }
  }
 },
 "nbformat": 4,
 "nbformat_minor": 5
}
